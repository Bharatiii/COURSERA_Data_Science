{
 "cells": [
  {
   "cell_type": "markdown",
   "id": "62bfb0b6-cbaf-4a0a-8467-a3a2656f4277",
   "metadata": {},
   "source": [
    "(header1, ASSIGNMENT)"
   ]
  },
  {
   "cell_type": "markdown",
   "id": "1c1b1e18-4d82-414f-978c-69ae583a7955",
   "metadata": {},
   "source": [
    "In this course TOOLS FOR Data Science are summarized "
   ]
  },
  {
   "cell_type": "markdown",
   "id": "22e72daa-6358-4b0b-9694-203c4b8e421b",
   "metadata": {},
   "source": [
    "Some of the popular languages that Data Scientists use are: \n",
    "Python,R,SQL,Java,Julia,Scala,C,C++,JavaScript"
   ]
  },
  {
   "cell_type": "markdown",
   "id": "43d4acbb-df96-4d7f-84f7-c7ca137e56f0",
   "metadata": {},
   "source": [
    "Some of the commonly used libraries used by Data Scientists include:\n",
    "TensorFlow,NumPy,SciPy,Pandas,Matplotlib,SciKit-Learn,Keras,PyTorch,Scrapy,BeautifulSoup,LightGBM,ELI5,NuPIC,Ramp,Bob,Pipenv,PyBrain,Caffe2,Chainer"
   ]
  },
  {
   "cell_type": "markdown",
   "id": "d07bdfa3-090d-4902-9fc8-f322ca7ef09f",
   "metadata": {},
   "source": [
    "Data Science Tools:\n",
    "\n",
    "                DATA SCIENCE TOOLS\n",
    "\n",
    "                Apache Spark\t\t\n",
    "                BigML"
   ]
  },
  {
   "cell_type": "code",
   "execution_count": 30,
   "id": "186b4283-972b-4c0d-91a5-c86a589c76c9",
   "metadata": {},
   "outputs": [
    {
     "data": {
      "text/plain": [
       "24"
      ]
     },
     "execution_count": 30,
     "metadata": {},
     "output_type": "execute_result"
    }
   ],
   "source": [
    "code1 = compile(\"(5 + 7) * 2\", \"<string>\", \"eval\")\n",
    "eval(code1)\n",
    "# Result: 24"
   ]
  },
  {
   "cell_type": "code",
   "execution_count": 32,
   "id": "e629c3b7-bc3f-4808-aa24-96e76038074d",
   "metadata": {},
   "outputs": [
    {
     "data": {
      "text/plain": [
       "17"
      ]
     },
     "execution_count": 32,
     "metadata": {},
     "output_type": "execute_result"
    }
   ],
   "source": [
    "\"This a simple arithmetic expression to mutiply then add integers\"\n",
    "(3*4)+5\n",
    "# Result: 17"
   ]
  },
  {
   "cell_type": "code",
   "execution_count": 34,
   "id": "4663c81b-1737-4bf2-9542-e5143365e280",
   "metadata": {},
   "outputs": [
    {
     "name": "stdout",
     "output_type": "stream",
     "text": [
      "0 days, 3.3333333333333335 hours, 0 mins. \n"
     ]
    }
   ],
   "source": [
    "\"This will convert 200 minutes to hours by diving by 60\"\n",
    "days = 0\n",
    "hours = 0\n",
    "mins = 0\n",
    "\n",
    "time = 200\n",
    "#days = time / 1440\n",
    "leftover_minutes = time % 1440\n",
    "hours = leftover_minutes / 60\n",
    "#mins = time - (days*1440) - (hours*60)\n",
    "print(str(days) + \" days, \" + str(hours) + \" hours, \" + str(mins) +  \" mins. \")\n",
    "\n",
    "# Result: 3.3333333333333335 hours\n"
   ]
  },
  {
   "cell_type": "markdown",
   "id": "9c4b455e-4128-419b-8c6e-9327aca63e75",
   "metadata": {},
   "source": [
    "The primary objective of data science is to identify patterns in data. It analyses the data and derives insights using a variety of statistical techniques. A data scientist must carefully examine the data after data extraction, wrangling, and pre-processing.Data Science Tools play a vital role in enhancing business capabilities by enabling data scientists and data science professionals to efficiently extract, process, analyze, and visualize data."
   ]
  },
  {
   "cell_type": "markdown",
   "id": "628aac2d-555b-4b19-8aee-221e0f4b3209",
   "metadata": {},
   "source": [
    "Author: Germano Costa,Guido van Rossum"
   ]
  },
  {
   "cell_type": "code",
   "execution_count": null,
   "id": "cf5594a2-f7ea-44b4-b613-fbb099f697e6",
   "metadata": {},
   "outputs": [],
   "source": []
  }
 ],
 "metadata": {
  "kernelspec": {
   "display_name": "Python 3 (ipykernel)",
   "language": "python",
   "name": "python3"
  },
  "language_info": {
   "codemirror_mode": {
    "name": "ipython",
    "version": 3
   },
   "file_extension": ".py",
   "mimetype": "text/x-python",
   "name": "python",
   "nbconvert_exporter": "python",
   "pygments_lexer": "ipython3",
   "version": "3.12.4"
  }
 },
 "nbformat": 4,
 "nbformat_minor": 5
}
